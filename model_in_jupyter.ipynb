{
  "cells": [
    {
      "cell_type": "code",
      "execution_count": 1,
      "metadata": {
        "id": "q5bygiGyFiMz"
      },
      "outputs": [],
      "source": [
        "import pandas as pd\n",
        "import numpy as np\n",
        "import matplotlib.pyplot as plt\n",
        "import tensorflow as tf\n",
        "\n",
        "from keras.models import Sequential, Model\n",
        "from keras.layers import (\n",
        "    Dense,\n",
        "    BatchNormalization,\n",
        "    Dropout,\n",
        "    Flatten,\n",
        "    Rescaling,\n",
        "    Conv2D,\n",
        "    MaxPooling2D,\n",
        "    AveragePooling2D,\n",
        "    LeakyReLU,\n",
        "    GlobalAveragePooling2D,\n",
        "    RandomZoom,\n",
        "    RandomContrast\n",
        ")\n",
        "from keras.callbacks import EarlyStopping, ModelCheckpoint\n",
        "import os\n",
        "from PIL import Image\n",
        "import shutil\n",
        "from sklearn.utils import class_weight\n",
        "AUTOTUNE = tf.data.experimental.AUTOTUNE"
      ]
    },
    {
      "cell_type": "markdown",
      "metadata": {
        "id": "nfoymIBEFiM2"
      },
      "source": [
        "## <div style=\"border: 1px solid purple; padding: 10px; color: yellow\"> Import</div>"
      ]
    },
    {
      "cell_type": "code",
      "execution_count": 2,
      "metadata": {
        "colab": {
          "base_uri": "https://localhost:8080/"
        },
        "id": "P6SEbXFAFiM2",
        "outputId": "28e0ac15-749e-41cc-cbba-aaa331456ff4"
      },
      "outputs": [
        {
          "name": "stdout",
          "output_type": "stream",
          "text": [
            "Downloading...\n",
            "From (original): https://drive.google.com/uc?id=1eriSKGhOafp5vhrgxnJwL4X3lJ1RNMG6\n",
            "From (redirected): https://drive.google.com/uc?id=1eriSKGhOafp5vhrgxnJwL4X3lJ1RNMG6&confirm=t&uuid=d4be6c66-373c-4d6f-9e75-c975518e8185\n",
            "To: /content/train_moderaciya_kartocek_tovarov.zip\n",
            "100% 1.49G/1.49G [00:17<00:00, 85.1MB/s]\n"
          ]
        }
      ],
      "source": [
        "!gdown 1eriSKGhOafp5vhrgxnJwL4X3lJ1RNMG6"
      ]
    },
    {
      "cell_type": "code",
      "execution_count": 3,
      "metadata": {
        "collapsed": true,
        "id": "pXhQcEeEFiM3"
      },
      "outputs": [],
      "source": [
        "!unzip -qq train_moderaciya_kartocek_tovarov.zip -d data"
      ]
    },
    {
      "cell_type": "code",
      "execution_count": 4,
      "metadata": {
        "id": "u60CuqLBlMDW"
      },
      "outputs": [],
      "source": [
        "data_dir = \"/content/data/train\""
      ]
    },
    {
      "cell_type": "markdown",
      "metadata": {
        "id": "NdKTj8BNFiM3"
      },
      "source": [
        "## <div style=\"border: 1px solid purple; padding: 10px; color: yellow\"> Split data</div>"
      ]
    },
    {
      "cell_type": "code",
      "execution_count": 5,
      "metadata": {
        "collapsed": true,
        "id": "Gn3_y58fUsWM"
      },
      "outputs": [],
      "source": [
        "batch_size = 32\n",
        "image_size = (224, 224)"
      ]
    },
    {
      "cell_type": "code",
      "execution_count": 6,
      "metadata": {
        "id": "2xHZdpBwFQqX"
      },
      "outputs": [],
      "source": [
        "# move file to 2 dirs\n",
        "subdirs = ['cigs', 'pipes', 'roll_cigs']\n",
        "destination =  os.path.join(data_dir, 'smoking')\n",
        "X, y = [], []\n",
        "for dir in subdirs:\n",
        "  for file_name in os.listdir(os.path.join(data_dir, dir)):\n",
        "    source = os.path.join(data_dir, dir, file_name)\n",
        "    dest = os.path.join(destination, file_name)\n",
        "    shutil.move(source, dest)\n",
        "  os.removedirs(os.path.join(data_dir, dir))"
      ]
    },
    {
      "cell_type": "code",
      "execution_count": 7,
      "metadata": {
        "id": "Jq9MXYg0lRZ4"
      },
      "outputs": [],
      "source": [
        "# convert to JPEG format\n",
        "def convert_file(file_name, dir):\n",
        "    if file_name.lower().endswith('webp') or file_name.lower().endswith('jpg'):\n",
        "        img = Image.open(os.path.join(data_dir, dir, file_name)).convert('RGB')\n",
        "        img.save(f'{os.path.join(data_dir, dir, file_name[:-4])}.jpeg', \"JPEG\")\n",
        "        os.remove(os.path.join(data_dir, dir, file_name))"
      ]
    },
    {
      "cell_type": "code",
      "execution_count": 8,
      "metadata": {
        "colab": {
          "base_uri": "https://localhost:8080/"
        },
        "id": "huis6TOZ2tLA",
        "outputId": "89e8f94f-903f-411b-f171-244ba364c792"
      },
      "outputs": [
        {
          "name": "stderr",
          "output_type": "stream",
          "text": [
            "/usr/local/lib/python3.10/dist-packages/PIL/Image.py:996: UserWarning: Palette images with Transparency expressed in bytes should be converted to RGBA images\n",
            "  warnings.warn(\n"
          ]
        }
      ],
      "source": [
        "labels = []\n",
        "for dir in os.listdir(data_dir):\n",
        "  for file in os.listdir(os.path.join(data_dir, dir)):\n",
        "    convert_file(file, dir)\n",
        "    labels.append(dir)"
      ]
    },
    {
      "cell_type": "code",
      "execution_count": 9,
      "metadata": {
        "id": "QHA5QI3vFrIo"
      },
      "outputs": [],
      "source": [
        "from sklearn.preprocessing import LabelEncoder\n",
        "enc = LabelEncoder()\n",
        "labels = enc.fit_transform(labels)"
      ]
    },
    {
      "cell_type": "code",
      "execution_count": 10,
      "metadata": {
        "id": "S5UavieilBiY"
      },
      "outputs": [],
      "source": [
        "def split_data(data_dir, image_size, batch_size):\n",
        "    train_ds, val_ds = tf.keras.preprocessing.image_dataset_from_directory(\n",
        "        data_dir,\n",
        "        validation_split=0.1,\n",
        "        subset='both',\n",
        "        seed=123,\n",
        "        image_size=image_size,\n",
        "        batch_size=batch_size,\n",
        "        label_mode ='categorical',\n",
        "        # label_mode ='binary',\n",
        "    )\n",
        "    return train_ds, val_ds"
      ]
    },
    {
      "cell_type": "code",
      "execution_count": 11,
      "metadata": {
        "colab": {
          "base_uri": "https://localhost:8080/"
        },
        "id": "YJtJoXopFiM6",
        "outputId": "f563914b-16af-4448-b9ba-08c3442bc0f3"
      },
      "outputs": [
        {
          "name": "stdout",
          "output_type": "stream",
          "text": [
            "Found 6602 files belonging to 2 classes.\n",
            "Using 5942 files for training.\n",
            "Using 660 files for validation.\n",
            "['other', 'smoking']\n"
          ]
        }
      ],
      "source": [
        "train_ds, val_ds = split_data(data_dir, image_size, batch_size)\n",
        "\n",
        "class_names = train_ds.class_names\n",
        "print(class_names)"
      ]
    },
    {
      "cell_type": "code",
      "execution_count": 12,
      "metadata": {
        "colab": {
          "base_uri": "https://localhost:8080/"
        },
        "id": "FqSrK0JULvYD",
        "outputId": "56ab865d-4951-4c09-b612-09fd8cfda57c"
      },
      "outputs": [
        {
          "data": {
            "text/plain": [
              "{0: 0.781301775147929, 1: 1.3887252839713926}"
            ]
          },
          "execution_count": 12,
          "metadata": {},
          "output_type": "execute_result"
        }
      ],
      "source": [
        "class_weights = class_weight.compute_class_weight('balanced', classes=np.unique(labels), y=labels)\n",
        "class_weights_dict = dict(enumerate(class_weights))\n",
        "class_weights_dict"
      ]
    },
    {
      "cell_type": "markdown",
      "metadata": {
        "id": "vqc_0ZYBTrq2"
      },
      "source": [
        "## <div style=\"border: 1px solid purple; padding: 10px; color: orange\"> Transfer Learning.</div>"
      ]
    },
    {
      "cell_type": "code",
      "execution_count": 13,
      "metadata": {
        "id": "Lm5lezo6lu_r"
      },
      "outputs": [],
      "source": [
        "save_best_weights = ModelCheckpoint(\n",
        "        filepath=\".weights.h5\",\n",
        "        save_weights_only=True,\n",
        "        monitor=\"val_precision\",\n",
        "        mode=\"max\",\n",
        "        save_best_only=True,\n",
        "    )\n",
        "early_stopping = EarlyStopping(monitor='val_precision', patience=5, mode='max')"
      ]
    },
    {
      "cell_type": "code",
      "execution_count": 14,
      "metadata": {
        "id": "O289_NkqT-1P"
      },
      "outputs": [],
      "source": [
        "from functools import partial\n",
        "def process_image(image, label, img_size):\n",
        "    image = tf.image.random_flip_left_right(image)\n",
        "    # image = tf.image.rgb_to_grayscale(image)\n",
        "    image = tf.image.stateless_random_brightness(\n",
        "      image, max_delta=0.95, seed=(1,2))\n",
        "    # image = tf.image.resize(image,[img_size, img_size])\n",
        "    return image, label\n",
        "\n",
        "train_ds_ = train_ds.map(partial(process_image, img_size=image_size[0]))#, num_parallel_calls=AUTOTUNE).batch(30).prefetch(AUTOTUNE)"
      ]
    },
    {
      "cell_type": "code",
      "execution_count": 15,
      "metadata": {
        "colab": {
          "base_uri": "https://localhost:8080/"
        },
        "id": "OMnhm7laUdWB",
        "outputId": "98501b41-7fe7-4d35-d3cf-e292f13b077d"
      },
      "outputs": [
        {
          "data": {
            "text/plain": [
              "<_MapDataset element_spec=(TensorSpec(shape=(None, 224, 224, 3), dtype=tf.float32, name=None), TensorSpec(shape=(None, 2), dtype=tf.float32, name=None))>"
            ]
          },
          "execution_count": 15,
          "metadata": {},
          "output_type": "execute_result"
        }
      ],
      "source": [
        "train_ds_"
      ]
    },
    {
      "cell_type": "code",
      "execution_count": 16,
      "metadata": {
        "id": "G89gEHBrl1I8"
      },
      "outputs": [],
      "source": [
        "train_ds_ = train_ds_.cache().prefetch(buffer_size=AUTOTUNE)\n",
        "val_ds = val_ds.cache().prefetch(buffer_size=AUTOTUNE)"
      ]
    },
    {
      "cell_type": "code",
      "execution_count": null,
      "metadata": {
        "id": "WCjXSSwle1AU"
      },
      "outputs": [],
      "source": [
        "adam = tf.keras.optimizers.Adam(\n",
        "    learning_rate=0.001)\n"
      ]
    },
    {
      "cell_type": "code",
      "execution_count": 17,
      "metadata": {
        "colab": {
          "base_uri": "https://localhost:8080/"
        },
        "id": "Arg_vYQFFiM_",
        "outputId": "c1db7663-de6f-4155-87d6-7ac195a06880"
      },
      "outputs": [
        {
          "name": "stdout",
          "output_type": "stream",
          "text": [
            "Downloading data from https://storage.googleapis.com/keras-applications/efficientnetb7_notop.h5\n",
            "\u001b[1m258076736/258076736\u001b[0m \u001b[32m━━━━━━━━━━━━━━━━━━━━\u001b[0m\u001b[37m\u001b[0m \u001b[1m1s\u001b[0m 0us/step\n"
          ]
        }
      ],
      "source": [
        "image_shape = image_size + (3,)\n",
        "\n",
        "base_model = tf.keras.applications.EfficientNetB7(\n",
        "    weights='imagenet',\n",
        "    include_top=False)\n",
        "\n",
        "base_model.trainable = False\n",
        "# for layer in base_model.layers[-5:]:\n",
        "#   layer.trainable = True\n",
        "\n",
        "inputs = tf.keras.Input(shape=image_shape)\n",
        "x = base_model(inputs, training=False)\n",
        "x = GlobalAveragePooling2D()(x)\n",
        "x = Dropout(0.2)(x)\n",
        "x = Dense(256, activation=\"relu\")(x)\n",
        "x = BatchNormalization()(x)\n",
        "x = Dropout(0.1)(x)\n",
        "x = Dense(128, activation=\"relu\")(x)\n",
        "x = BatchNormalization()(x)\n",
        "x = Dropout(0.1)(x)\n",
        "x = Dense(64, activation=\"relu\")(x)\n",
        "x = BatchNormalization()(x)\n",
        "outputs = Dense(2, activation='softmax')(x)\n",
        "model = Model(inputs, outputs)\n",
        "\n",
        "model.compile(\n",
        "    optimizer='adam',\n",
        "    loss=\"categorical_crossentropy\",\n",
        "    metrics=[\"precision\", 'recall', 'f1_score']\n",
        "    )"
      ]
    },
    {
      "cell_type": "code",
      "execution_count": 18,
      "metadata": {
        "colab": {
          "base_uri": "https://localhost:8080/"
        },
        "id": "_CJ-BiuB_bMp",
        "outputId": "1f12e022-8988-424d-d647-5d3ede87b83b"
      },
      "outputs": [
        {
          "name": "stdout",
          "output_type": "stream",
          "text": [
            "Epoch 1/10\n",
            "\u001b[1m186/186\u001b[0m \u001b[32m━━━━━━━━━━━━━━━━━━━━\u001b[0m\u001b[37m\u001b[0m \u001b[1m228s\u001b[0m 761ms/step - f1_score: 0.8239 - loss: 0.4057 - precision: 0.8327 - recall: 0.8327 - val_f1_score: 0.9155 - val_loss: 0.1957 - val_precision: 0.9242 - val_recall: 0.9242\n",
            "Epoch 2/10\n",
            "\u001b[1m186/186\u001b[0m \u001b[32m━━━━━━━━━━━━━━━━━━━━\u001b[0m\u001b[37m\u001b[0m \u001b[1m48s\u001b[0m 260ms/step - f1_score: 0.9265 - loss: 0.1769 - precision: 0.9319 - recall: 0.9319 - val_f1_score: 0.9253 - val_loss: 0.1794 - val_precision: 0.9318 - val_recall: 0.9318\n",
            "Epoch 3/10\n",
            "\u001b[1m186/186\u001b[0m \u001b[32m━━━━━━━━━━━━━━━━━━━━\u001b[0m\u001b[37m\u001b[0m \u001b[1m53s\u001b[0m 282ms/step - f1_score: 0.9582 - loss: 0.1210 - precision: 0.9614 - recall: 0.9614 - val_f1_score: 0.9369 - val_loss: 0.1953 - val_precision: 0.9424 - val_recall: 0.9424\n",
            "Epoch 4/10\n",
            "\u001b[1m186/186\u001b[0m \u001b[32m━━━━━━━━━━━━━━━━━━━━\u001b[0m\u001b[37m\u001b[0m \u001b[1m48s\u001b[0m 257ms/step - f1_score: 0.9611 - loss: 0.0886 - precision: 0.9640 - recall: 0.9640 - val_f1_score: 0.9251 - val_loss: 0.1975 - val_precision: 0.9318 - val_recall: 0.9318\n",
            "Epoch 5/10\n",
            "\u001b[1m186/186\u001b[0m \u001b[32m━━━━━━━━━━━━━━━━━━━━\u001b[0m\u001b[37m\u001b[0m \u001b[1m82s\u001b[0m 255ms/step - f1_score: 0.9699 - loss: 0.0735 - precision: 0.9723 - recall: 0.9723 - val_f1_score: 0.9269 - val_loss: 0.2319 - val_precision: 0.9333 - val_recall: 0.9333\n",
            "Epoch 6/10\n",
            "\u001b[1m186/186\u001b[0m \u001b[32m━━━━━━━━━━━━━━━━━━━━\u001b[0m\u001b[37m\u001b[0m \u001b[1m82s\u001b[0m 256ms/step - f1_score: 0.9738 - loss: 0.0631 - precision: 0.9759 - recall: 0.9759 - val_f1_score: 0.9334 - val_loss: 0.1896 - val_precision: 0.9394 - val_recall: 0.9394\n",
            "Epoch 7/10\n",
            "\u001b[1m186/186\u001b[0m \u001b[32m━━━━━━━━━━━━━━━━━━━━\u001b[0m\u001b[37m\u001b[0m \u001b[1m86s\u001b[0m 279ms/step - f1_score: 0.9757 - loss: 0.0592 - precision: 0.9776 - recall: 0.9776 - val_f1_score: 0.9420 - val_loss: 0.1966 - val_precision: 0.9470 - val_recall: 0.9470\n",
            "Epoch 8/10\n",
            "\u001b[1m186/186\u001b[0m \u001b[32m━━━━━━━━━━━━━━━━━━━━\u001b[0m\u001b[37m\u001b[0m \u001b[1m55s\u001b[0m 298ms/step - f1_score: 0.9767 - loss: 0.0604 - precision: 0.9785 - recall: 0.9785 - val_f1_score: 0.9434 - val_loss: 0.1663 - val_precision: 0.9485 - val_recall: 0.9485\n",
            "Epoch 9/10\n",
            "\u001b[1m186/186\u001b[0m \u001b[32m━━━━━━━━━━━━━━━━━━━━\u001b[0m\u001b[37m\u001b[0m \u001b[1m74s\u001b[0m 256ms/step - f1_score: 0.9803 - loss: 0.0509 - precision: 0.9818 - recall: 0.9818 - val_f1_score: 0.9315 - val_loss: 0.1897 - val_precision: 0.9379 - val_recall: 0.9379\n",
            "Epoch 10/10\n",
            "\u001b[1m186/186\u001b[0m \u001b[32m━━━━━━━━━━━━━━━━━━━━\u001b[0m\u001b[37m\u001b[0m \u001b[1m88s\u001b[0m 290ms/step - f1_score: 0.9826 - loss: 0.0468 - precision: 0.9840 - recall: 0.9840 - val_f1_score: 0.9453 - val_loss: 0.1792 - val_precision: 0.9500 - val_recall: 0.9500\n"
          ]
        },
        {
          "data": {
            "text/plain": [
              "<keras.src.callbacks.history.History at 0x7c8f5878b3d0>"
            ]
          },
          "execution_count": 18,
          "metadata": {},
          "output_type": "execute_result"
        }
      ],
      "source": [
        "model.fit(\n",
        "    train_ds_,\n",
        "    epochs=10,\n",
        "    validation_data=val_ds,\n",
        "    callbacks=[early_stopping, save_best_weights],\n",
        "    class_weight=class_weights_dict,\n",
        ")"
      ]
    },
    {
      "cell_type": "code",
      "execution_count": null,
      "metadata": {
        "id": "5n6GGRIxmG73"
      },
      "outputs": [],
      "source": [
        "model.save(\"model_2_classes_B7_aug_balanced.keras\")\n",
        "model.save_weights(filepath=\".weights.h5\", overwrite=True)\n",
        "from google.colab import files\n",
        "files.download('.weights.h5')"
      ]
    },
    {
      "cell_type": "code",
      "execution_count": null,
      "metadata": {
        "colab": {
          "base_uri": "https://localhost:8080/",
          "height": 544
        },
        "id": "QunNqx5eBchQ",
        "outputId": "a00a7e1f-0c45-4ff3-ca9d-f86f60f5f4c3"
      },
      "outputs": [
        {
          "data": {
            "text/html": [
              "<pre style=\"white-space:pre;overflow-x:auto;line-height:normal;font-family:Menlo,'DejaVu Sans Mono',consolas,'Courier New',monospace\"><span style=\"font-weight: bold\">Model: \"functional\"</span>\n",
              "</pre>\n"
            ],
            "text/plain": [
              "\u001b[1mModel: \"functional\"\u001b[0m\n"
            ]
          },
          "metadata": {},
          "output_type": "display_data"
        },
        {
          "data": {
            "text/html": [
              "<pre style=\"white-space:pre;overflow-x:auto;line-height:normal;font-family:Menlo,'DejaVu Sans Mono',consolas,'Courier New',monospace\">┏━━━━━━━━━━━━━━━━━━━━━━━━━━━━━━━━━━━━━━┳━━━━━━━━━━━━━━━━━━━━━━━━━━━━━┳━━━━━━━━━━━━━━━━━┓\n",
              "┃<span style=\"font-weight: bold\"> Layer (type)                         </span>┃<span style=\"font-weight: bold\"> Output Shape                </span>┃<span style=\"font-weight: bold\">         Param # </span>┃\n",
              "┡━━━━━━━━━━━━━━━━━━━━━━━━━━━━━━━━━━━━━━╇━━━━━━━━━━━━━━━━━━━━━━━━━━━━━╇━━━━━━━━━━━━━━━━━┩\n",
              "│ input_layer_1 (<span style=\"color: #0087ff; text-decoration-color: #0087ff\">InputLayer</span>)           │ (<span style=\"color: #00d7ff; text-decoration-color: #00d7ff\">None</span>, <span style=\"color: #00af00; text-decoration-color: #00af00\">128</span>, <span style=\"color: #00af00; text-decoration-color: #00af00\">128</span>, <span style=\"color: #00af00; text-decoration-color: #00af00\">3</span>)         │               <span style=\"color: #00af00; text-decoration-color: #00af00\">0</span> │\n",
              "├──────────────────────────────────────┼─────────────────────────────┼─────────────────┤\n",
              "│ resnet50 (<span style=\"color: #0087ff; text-decoration-color: #0087ff\">Functional</span>)                │ (<span style=\"color: #00d7ff; text-decoration-color: #00d7ff\">None</span>, <span style=\"color: #00af00; text-decoration-color: #00af00\">4</span>, <span style=\"color: #00af00; text-decoration-color: #00af00\">4</span>, <span style=\"color: #00af00; text-decoration-color: #00af00\">2048</span>)          │      <span style=\"color: #00af00; text-decoration-color: #00af00\">23,587,712</span> │\n",
              "├──────────────────────────────────────┼─────────────────────────────┼─────────────────┤\n",
              "│ global_average_pooling2d             │ (<span style=\"color: #00d7ff; text-decoration-color: #00d7ff\">None</span>, <span style=\"color: #00af00; text-decoration-color: #00af00\">2048</span>)                │               <span style=\"color: #00af00; text-decoration-color: #00af00\">0</span> │\n",
              "│ (<span style=\"color: #0087ff; text-decoration-color: #0087ff\">GlobalAveragePooling2D</span>)             │                             │                 │\n",
              "├──────────────────────────────────────┼─────────────────────────────┼─────────────────┤\n",
              "│ dropout (<span style=\"color: #0087ff; text-decoration-color: #0087ff\">Dropout</span>)                    │ (<span style=\"color: #00d7ff; text-decoration-color: #00d7ff\">None</span>, <span style=\"color: #00af00; text-decoration-color: #00af00\">2048</span>)                │               <span style=\"color: #00af00; text-decoration-color: #00af00\">0</span> │\n",
              "├──────────────────────────────────────┼─────────────────────────────┼─────────────────┤\n",
              "│ dense (<span style=\"color: #0087ff; text-decoration-color: #0087ff\">Dense</span>)                        │ (<span style=\"color: #00d7ff; text-decoration-color: #00d7ff\">None</span>, <span style=\"color: #00af00; text-decoration-color: #00af00\">128</span>)                 │         <span style=\"color: #00af00; text-decoration-color: #00af00\">262,272</span> │\n",
              "├──────────────────────────────────────┼─────────────────────────────┼─────────────────┤\n",
              "│ batch_normalization                  │ (<span style=\"color: #00d7ff; text-decoration-color: #00d7ff\">None</span>, <span style=\"color: #00af00; text-decoration-color: #00af00\">128</span>)                 │             <span style=\"color: #00af00; text-decoration-color: #00af00\">512</span> │\n",
              "│ (<span style=\"color: #0087ff; text-decoration-color: #0087ff\">BatchNormalization</span>)                 │                             │                 │\n",
              "├──────────────────────────────────────┼─────────────────────────────┼─────────────────┤\n",
              "│ dropout_1 (<span style=\"color: #0087ff; text-decoration-color: #0087ff\">Dropout</span>)                  │ (<span style=\"color: #00d7ff; text-decoration-color: #00d7ff\">None</span>, <span style=\"color: #00af00; text-decoration-color: #00af00\">128</span>)                 │               <span style=\"color: #00af00; text-decoration-color: #00af00\">0</span> │\n",
              "├──────────────────────────────────────┼─────────────────────────────┼─────────────────┤\n",
              "│ dense_1 (<span style=\"color: #0087ff; text-decoration-color: #0087ff\">Dense</span>)                      │ (<span style=\"color: #00d7ff; text-decoration-color: #00d7ff\">None</span>, <span style=\"color: #00af00; text-decoration-color: #00af00\">64</span>)                  │           <span style=\"color: #00af00; text-decoration-color: #00af00\">8,256</span> │\n",
              "├──────────────────────────────────────┼─────────────────────────────┼─────────────────┤\n",
              "│ batch_normalization_1                │ (<span style=\"color: #00d7ff; text-decoration-color: #00d7ff\">None</span>, <span style=\"color: #00af00; text-decoration-color: #00af00\">64</span>)                  │             <span style=\"color: #00af00; text-decoration-color: #00af00\">256</span> │\n",
              "│ (<span style=\"color: #0087ff; text-decoration-color: #0087ff\">BatchNormalization</span>)                 │                             │                 │\n",
              "├──────────────────────────────────────┼─────────────────────────────┼─────────────────┤\n",
              "│ dense_2 (<span style=\"color: #0087ff; text-decoration-color: #0087ff\">Dense</span>)                      │ (<span style=\"color: #00d7ff; text-decoration-color: #00d7ff\">None</span>, <span style=\"color: #00af00; text-decoration-color: #00af00\">2</span>)                   │             <span style=\"color: #00af00; text-decoration-color: #00af00\">130</span> │\n",
              "└──────────────────────────────────────┴─────────────────────────────┴─────────────────┘\n",
              "</pre>\n"
            ],
            "text/plain": [
              "┏━━━━━━━━━━━━━━━━━━━━━━━━━━━━━━━━━━━━━━┳━━━━━━━━━━━━━━━━━━━━━━━━━━━━━┳━━━━━━━━━━━━━━━━━┓\n",
              "┃\u001b[1m \u001b[0m\u001b[1mLayer (type)                        \u001b[0m\u001b[1m \u001b[0m┃\u001b[1m \u001b[0m\u001b[1mOutput Shape               \u001b[0m\u001b[1m \u001b[0m┃\u001b[1m \u001b[0m\u001b[1m        Param #\u001b[0m\u001b[1m \u001b[0m┃\n",
              "┡━━━━━━━━━━━━━━━━━━━━━━━━━━━━━━━━━━━━━━╇━━━━━━━━━━━━━━━━━━━━━━━━━━━━━╇━━━━━━━━━━━━━━━━━┩\n",
              "│ input_layer_1 (\u001b[38;5;33mInputLayer\u001b[0m)           │ (\u001b[38;5;45mNone\u001b[0m, \u001b[38;5;34m128\u001b[0m, \u001b[38;5;34m128\u001b[0m, \u001b[38;5;34m3\u001b[0m)         │               \u001b[38;5;34m0\u001b[0m │\n",
              "├──────────────────────────────────────┼─────────────────────────────┼─────────────────┤\n",
              "│ resnet50 (\u001b[38;5;33mFunctional\u001b[0m)                │ (\u001b[38;5;45mNone\u001b[0m, \u001b[38;5;34m4\u001b[0m, \u001b[38;5;34m4\u001b[0m, \u001b[38;5;34m2048\u001b[0m)          │      \u001b[38;5;34m23,587,712\u001b[0m │\n",
              "├──────────────────────────────────────┼─────────────────────────────┼─────────────────┤\n",
              "│ global_average_pooling2d             │ (\u001b[38;5;45mNone\u001b[0m, \u001b[38;5;34m2048\u001b[0m)                │               \u001b[38;5;34m0\u001b[0m │\n",
              "│ (\u001b[38;5;33mGlobalAveragePooling2D\u001b[0m)             │                             │                 │\n",
              "├──────────────────────────────────────┼─────────────────────────────┼─────────────────┤\n",
              "│ dropout (\u001b[38;5;33mDropout\u001b[0m)                    │ (\u001b[38;5;45mNone\u001b[0m, \u001b[38;5;34m2048\u001b[0m)                │               \u001b[38;5;34m0\u001b[0m │\n",
              "├──────────────────────────────────────┼─────────────────────────────┼─────────────────┤\n",
              "│ dense (\u001b[38;5;33mDense\u001b[0m)                        │ (\u001b[38;5;45mNone\u001b[0m, \u001b[38;5;34m128\u001b[0m)                 │         \u001b[38;5;34m262,272\u001b[0m │\n",
              "├──────────────────────────────────────┼─────────────────────────────┼─────────────────┤\n",
              "│ batch_normalization                  │ (\u001b[38;5;45mNone\u001b[0m, \u001b[38;5;34m128\u001b[0m)                 │             \u001b[38;5;34m512\u001b[0m │\n",
              "│ (\u001b[38;5;33mBatchNormalization\u001b[0m)                 │                             │                 │\n",
              "├──────────────────────────────────────┼─────────────────────────────┼─────────────────┤\n",
              "│ dropout_1 (\u001b[38;5;33mDropout\u001b[0m)                  │ (\u001b[38;5;45mNone\u001b[0m, \u001b[38;5;34m128\u001b[0m)                 │               \u001b[38;5;34m0\u001b[0m │\n",
              "├──────────────────────────────────────┼─────────────────────────────┼─────────────────┤\n",
              "│ dense_1 (\u001b[38;5;33mDense\u001b[0m)                      │ (\u001b[38;5;45mNone\u001b[0m, \u001b[38;5;34m64\u001b[0m)                  │           \u001b[38;5;34m8,256\u001b[0m │\n",
              "├──────────────────────────────────────┼─────────────────────────────┼─────────────────┤\n",
              "│ batch_normalization_1                │ (\u001b[38;5;45mNone\u001b[0m, \u001b[38;5;34m64\u001b[0m)                  │             \u001b[38;5;34m256\u001b[0m │\n",
              "│ (\u001b[38;5;33mBatchNormalization\u001b[0m)                 │                             │                 │\n",
              "├──────────────────────────────────────┼─────────────────────────────┼─────────────────┤\n",
              "│ dense_2 (\u001b[38;5;33mDense\u001b[0m)                      │ (\u001b[38;5;45mNone\u001b[0m, \u001b[38;5;34m2\u001b[0m)                   │             \u001b[38;5;34m130\u001b[0m │\n",
              "└──────────────────────────────────────┴─────────────────────────────┴─────────────────┘\n"
            ]
          },
          "metadata": {},
          "output_type": "display_data"
        },
        {
          "data": {
            "text/html": [
              "<pre style=\"white-space:pre;overflow-x:auto;line-height:normal;font-family:Menlo,'DejaVu Sans Mono',consolas,'Courier New',monospace\"><span style=\"font-weight: bold\"> Total params: </span><span style=\"color: #00af00; text-decoration-color: #00af00\">24,401,224</span> (93.08 MB)\n",
              "</pre>\n"
            ],
            "text/plain": [
              "\u001b[1m Total params: \u001b[0m\u001b[38;5;34m24,401,224\u001b[0m (93.08 MB)\n"
            ]
          },
          "metadata": {},
          "output_type": "display_data"
        },
        {
          "data": {
            "text/html": [
              "<pre style=\"white-space:pre;overflow-x:auto;line-height:normal;font-family:Menlo,'DejaVu Sans Mono',consolas,'Courier New',monospace\"><span style=\"font-weight: bold\"> Trainable params: </span><span style=\"color: #00af00; text-decoration-color: #00af00\">271,042</span> (1.03 MB)\n",
              "</pre>\n"
            ],
            "text/plain": [
              "\u001b[1m Trainable params: \u001b[0m\u001b[38;5;34m271,042\u001b[0m (1.03 MB)\n"
            ]
          },
          "metadata": {},
          "output_type": "display_data"
        },
        {
          "data": {
            "text/html": [
              "<pre style=\"white-space:pre;overflow-x:auto;line-height:normal;font-family:Menlo,'DejaVu Sans Mono',consolas,'Courier New',monospace\"><span style=\"font-weight: bold\"> Non-trainable params: </span><span style=\"color: #00af00; text-decoration-color: #00af00\">23,588,096</span> (89.98 MB)\n",
              "</pre>\n"
            ],
            "text/plain": [
              "\u001b[1m Non-trainable params: \u001b[0m\u001b[38;5;34m23,588,096\u001b[0m (89.98 MB)\n"
            ]
          },
          "metadata": {},
          "output_type": "display_data"
        },
        {
          "data": {
            "text/html": [
              "<pre style=\"white-space:pre;overflow-x:auto;line-height:normal;font-family:Menlo,'DejaVu Sans Mono',consolas,'Courier New',monospace\"><span style=\"font-weight: bold\"> Optimizer params: </span><span style=\"color: #00af00; text-decoration-color: #00af00\">542,086</span> (2.07 MB)\n",
              "</pre>\n"
            ],
            "text/plain": [
              "\u001b[1m Optimizer params: \u001b[0m\u001b[38;5;34m542,086\u001b[0m (2.07 MB)\n"
            ]
          },
          "metadata": {},
          "output_type": "display_data"
        }
      ],
      "source": [
        "model.summary()"
      ]
    },
    {
      "cell_type": "code",
      "execution_count": null,
      "metadata": {
        "id": "O87BtBnUlBii"
      },
      "outputs": [],
      "source": [
        "plt.rcParams[\"font.size\"] = 12\n",
        "param_plt_1 = {\"linewidth\": 3, \"color\": \"orange\"}\n",
        "param_plt_2 = {\"linewidth\": 3, \"color\": \"brown\"}\n",
        "\n",
        "\n",
        "def plot_graph(train_pr, val_pr, train_loss, val_loss):\n",
        "    \"\"\"\n",
        "    Функция выведет на экран графики Precision и ошибки на валидационной и обучающей выборках.\n",
        "    \"\"\"\n",
        "    plt.figure(figsize=(12, 9))\n",
        "    plt.subplot(2, 2, 1)\n",
        "    epochs = range(1, len(train_pr) + 1)\n",
        "    plt.title(\"Precision\", fontweight=\"bold\")\n",
        "    plt.plot(epochs, train_pr, label=\"train\", **param_plt_1)\n",
        "    plt.plot(epochs, val_pr, label=\"val\", **param_plt_2)\n",
        "    plt.xlabel(\"Эпоха обучения\")\n",
        "    plt.legend()\n",
        "\n",
        "    plt.subplot(2, 2, 2)\n",
        "    plt.title(\"Ошибка\", fontweight=\"bold\")\n",
        "    plt.plot(train_loss, label=\"train\", **param_plt_1)\n",
        "    plt.plot(val_loss, label=\"val\", **param_plt_2)\n",
        "    plt.xlabel(\"Эпоха обучения\")\n",
        "    plt.legend()\n",
        "    plt.show()"
      ]
    },
    {
      "cell_type": "code",
      "execution_count": null,
      "metadata": {
        "colab": {
          "base_uri": "https://localhost:8080/",
          "height": 426
        },
        "id": "VHK9vjdmBdMF",
        "outputId": "24f3bcfe-162a-446c-a080-bebefe400dd4"
      },
      "outputs": [
        {
          "data": {
            "image/png": "[encoded data removed]",
            "text/plain": [
              "<Figure size 1200x900 with 2 Axes>"
            ]
          },
          "metadata": {},
          "output_type": "display_data"
        }
      ],
      "source": [
        "plot_graph(\n",
        "    model.history.history[\"precision\"],\n",
        "    model.history.history[\"val_precision\"],\n",
        "    model.history.history[\"loss\"],\n",
        "    model.history.history[\"val_loss\"],\n",
        ")"
      ]
    }
  ],
  "metadata": {
    "accelerator": "GPU",
    "colab": {
      "collapsed_sections": [
        "nfoymIBEFiM2"
      ],
      "gpuType": "T4",
      "provenance": []
    },
    "kernelspec": {
      "display_name": "Python 3",
      "name": "python3"
    },
    "language_info": {
      "codemirror_mode": {
        "name": "ipython",
        "version": 3
      },
      "file_extension": ".py",
      "mimetype": "text/x-python",
      "name": "python",
      "nbconvert_exporter": "python",
      "pygments_lexer": "ipython3",
      "version": "3.10.12"
    }
  },
  "nbformat": 4,
  "nbformat_minor": 0
}
